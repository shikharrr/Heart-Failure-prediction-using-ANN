{
  "nbformat": 4,
  "nbformat_minor": 0,
  "metadata": {
    "colab": {
      "name": "ANN.ipynb",
      "provenance": []
    },
    "kernelspec": {
      "name": "python3",
      "display_name": "Python 3"
    },
    "language_info": {
      "name": "python"
    }
  },
  "cells": [
    {
      "cell_type": "code",
      "execution_count": 3,
      "metadata": {
        "id": "tzqd_bz_EzrV"
      },
      "outputs": [],
      "source": [
        "import numpy as np\n",
        "import pandas as pd\n",
        "import matplotlib.pyplot as plt\n",
        "from sklearn import preprocessing\n",
        "from sklearn.preprocessing import StandardScaler\n",
        "from sklearn.model_selection import train_test_split\n",
        "import seaborn as sns\n",
        "from keras.layers import Dense, BatchNormalization, Dropout, LSTM\n",
        "from keras.models import Sequential\n",
        "from tensorflow.keras.utils import to_categorical\n",
        "from keras import callbacks\n",
        "from sklearn.metrics import precision_score, recall_score, confusion_matrix, classification_report, accuracy_score, f1_score"
      ]
    },
    {
      "cell_type": "code",
      "source": [
        "#loading data\n",
        "data = pd.read_csv(\"/content/heart_failure_clinical_records_dataset.csv\")\n",
        "data.head()"
      ],
      "metadata": {
        "colab": {
          "base_uri": "https://localhost:8080/",
          "height": 270
        },
        "id": "tgWpND6ME4uC",
        "outputId": "281157dd-9c03-480c-b1d0-32177697bd54"
      },
      "execution_count": 4,
      "outputs": [
        {
          "output_type": "execute_result",
          "data": {
            "text/plain": [
              "    age  anaemia  creatinine_phosphokinase  diabetes  ejection_fraction  \\\n",
              "0  75.0        0                       582         0                 20   \n",
              "1  55.0        0                      7861         0                 38   \n",
              "2  65.0        0                       146         0                 20   \n",
              "3  50.0        1                       111         0                 20   \n",
              "4  65.0        1                       160         1                 20   \n",
              "\n",
              "   high_blood_pressure  platelets  serum_creatinine  serum_sodium  sex  \\\n",
              "0                    1  265000.00               1.9           130    1   \n",
              "1                    0  263358.03               1.1           136    1   \n",
              "2                    0  162000.00               1.3           129    1   \n",
              "3                    0  210000.00               1.9           137    1   \n",
              "4                    0  327000.00               2.7           116    0   \n",
              "\n",
              "   smoking  time  DEATH_EVENT  \n",
              "0        0     4            1  \n",
              "1        0     6            1  \n",
              "2        1     7            1  \n",
              "3        0     7            1  \n",
              "4        0     8            1  "
            ],
            "text/html": [
              "\n",
              "  <div id=\"df-038e5aa0-07e7-468d-a15e-46fc8d6602a0\">\n",
              "    <div class=\"colab-df-container\">\n",
              "      <div>\n",
              "<style scoped>\n",
              "    .dataframe tbody tr th:only-of-type {\n",
              "        vertical-align: middle;\n",
              "    }\n",
              "\n",
              "    .dataframe tbody tr th {\n",
              "        vertical-align: top;\n",
              "    }\n",
              "\n",
              "    .dataframe thead th {\n",
              "        text-align: right;\n",
              "    }\n",
              "</style>\n",
              "<table border=\"1\" class=\"dataframe\">\n",
              "  <thead>\n",
              "    <tr style=\"text-align: right;\">\n",
              "      <th></th>\n",
              "      <th>age</th>\n",
              "      <th>anaemia</th>\n",
              "      <th>creatinine_phosphokinase</th>\n",
              "      <th>diabetes</th>\n",
              "      <th>ejection_fraction</th>\n",
              "      <th>high_blood_pressure</th>\n",
              "      <th>platelets</th>\n",
              "      <th>serum_creatinine</th>\n",
              "      <th>serum_sodium</th>\n",
              "      <th>sex</th>\n",
              "      <th>smoking</th>\n",
              "      <th>time</th>\n",
              "      <th>DEATH_EVENT</th>\n",
              "    </tr>\n",
              "  </thead>\n",
              "  <tbody>\n",
              "    <tr>\n",
              "      <th>0</th>\n",
              "      <td>75.0</td>\n",
              "      <td>0</td>\n",
              "      <td>582</td>\n",
              "      <td>0</td>\n",
              "      <td>20</td>\n",
              "      <td>1</td>\n",
              "      <td>265000.00</td>\n",
              "      <td>1.9</td>\n",
              "      <td>130</td>\n",
              "      <td>1</td>\n",
              "      <td>0</td>\n",
              "      <td>4</td>\n",
              "      <td>1</td>\n",
              "    </tr>\n",
              "    <tr>\n",
              "      <th>1</th>\n",
              "      <td>55.0</td>\n",
              "      <td>0</td>\n",
              "      <td>7861</td>\n",
              "      <td>0</td>\n",
              "      <td>38</td>\n",
              "      <td>0</td>\n",
              "      <td>263358.03</td>\n",
              "      <td>1.1</td>\n",
              "      <td>136</td>\n",
              "      <td>1</td>\n",
              "      <td>0</td>\n",
              "      <td>6</td>\n",
              "      <td>1</td>\n",
              "    </tr>\n",
              "    <tr>\n",
              "      <th>2</th>\n",
              "      <td>65.0</td>\n",
              "      <td>0</td>\n",
              "      <td>146</td>\n",
              "      <td>0</td>\n",
              "      <td>20</td>\n",
              "      <td>0</td>\n",
              "      <td>162000.00</td>\n",
              "      <td>1.3</td>\n",
              "      <td>129</td>\n",
              "      <td>1</td>\n",
              "      <td>1</td>\n",
              "      <td>7</td>\n",
              "      <td>1</td>\n",
              "    </tr>\n",
              "    <tr>\n",
              "      <th>3</th>\n",
              "      <td>50.0</td>\n",
              "      <td>1</td>\n",
              "      <td>111</td>\n",
              "      <td>0</td>\n",
              "      <td>20</td>\n",
              "      <td>0</td>\n",
              "      <td>210000.00</td>\n",
              "      <td>1.9</td>\n",
              "      <td>137</td>\n",
              "      <td>1</td>\n",
              "      <td>0</td>\n",
              "      <td>7</td>\n",
              "      <td>1</td>\n",
              "    </tr>\n",
              "    <tr>\n",
              "      <th>4</th>\n",
              "      <td>65.0</td>\n",
              "      <td>1</td>\n",
              "      <td>160</td>\n",
              "      <td>1</td>\n",
              "      <td>20</td>\n",
              "      <td>0</td>\n",
              "      <td>327000.00</td>\n",
              "      <td>2.7</td>\n",
              "      <td>116</td>\n",
              "      <td>0</td>\n",
              "      <td>0</td>\n",
              "      <td>8</td>\n",
              "      <td>1</td>\n",
              "    </tr>\n",
              "  </tbody>\n",
              "</table>\n",
              "</div>\n",
              "      <button class=\"colab-df-convert\" onclick=\"convertToInteractive('df-038e5aa0-07e7-468d-a15e-46fc8d6602a0')\"\n",
              "              title=\"Convert this dataframe to an interactive table.\"\n",
              "              style=\"display:none;\">\n",
              "        \n",
              "  <svg xmlns=\"http://www.w3.org/2000/svg\" height=\"24px\"viewBox=\"0 0 24 24\"\n",
              "       width=\"24px\">\n",
              "    <path d=\"M0 0h24v24H0V0z\" fill=\"none\"/>\n",
              "    <path d=\"M18.56 5.44l.94 2.06.94-2.06 2.06-.94-2.06-.94-.94-2.06-.94 2.06-2.06.94zm-11 1L8.5 8.5l.94-2.06 2.06-.94-2.06-.94L8.5 2.5l-.94 2.06-2.06.94zm10 10l.94 2.06.94-2.06 2.06-.94-2.06-.94-.94-2.06-.94 2.06-2.06.94z\"/><path d=\"M17.41 7.96l-1.37-1.37c-.4-.4-.92-.59-1.43-.59-.52 0-1.04.2-1.43.59L10.3 9.45l-7.72 7.72c-.78.78-.78 2.05 0 2.83L4 21.41c.39.39.9.59 1.41.59.51 0 1.02-.2 1.41-.59l7.78-7.78 2.81-2.81c.8-.78.8-2.07 0-2.86zM5.41 20L4 18.59l7.72-7.72 1.47 1.35L5.41 20z\"/>\n",
              "  </svg>\n",
              "      </button>\n",
              "      \n",
              "  <style>\n",
              "    .colab-df-container {\n",
              "      display:flex;\n",
              "      flex-wrap:wrap;\n",
              "      gap: 12px;\n",
              "    }\n",
              "\n",
              "    .colab-df-convert {\n",
              "      background-color: #E8F0FE;\n",
              "      border: none;\n",
              "      border-radius: 50%;\n",
              "      cursor: pointer;\n",
              "      display: none;\n",
              "      fill: #1967D2;\n",
              "      height: 32px;\n",
              "      padding: 0 0 0 0;\n",
              "      width: 32px;\n",
              "    }\n",
              "\n",
              "    .colab-df-convert:hover {\n",
              "      background-color: #E2EBFA;\n",
              "      box-shadow: 0px 1px 2px rgba(60, 64, 67, 0.3), 0px 1px 3px 1px rgba(60, 64, 67, 0.15);\n",
              "      fill: #174EA6;\n",
              "    }\n",
              "\n",
              "    [theme=dark] .colab-df-convert {\n",
              "      background-color: #3B4455;\n",
              "      fill: #D2E3FC;\n",
              "    }\n",
              "\n",
              "    [theme=dark] .colab-df-convert:hover {\n",
              "      background-color: #434B5C;\n",
              "      box-shadow: 0px 1px 3px 1px rgba(0, 0, 0, 0.15);\n",
              "      filter: drop-shadow(0px 1px 2px rgba(0, 0, 0, 0.3));\n",
              "      fill: #FFFFFF;\n",
              "    }\n",
              "  </style>\n",
              "\n",
              "      <script>\n",
              "        const buttonEl =\n",
              "          document.querySelector('#df-038e5aa0-07e7-468d-a15e-46fc8d6602a0 button.colab-df-convert');\n",
              "        buttonEl.style.display =\n",
              "          google.colab.kernel.accessAllowed ? 'block' : 'none';\n",
              "\n",
              "        async function convertToInteractive(key) {\n",
              "          const element = document.querySelector('#df-038e5aa0-07e7-468d-a15e-46fc8d6602a0');\n",
              "          const dataTable =\n",
              "            await google.colab.kernel.invokeFunction('convertToInteractive',\n",
              "                                                     [key], {});\n",
              "          if (!dataTable) return;\n",
              "\n",
              "          const docLinkHtml = 'Like what you see? Visit the ' +\n",
              "            '<a target=\"_blank\" href=https://colab.research.google.com/notebooks/data_table.ipynb>data table notebook</a>'\n",
              "            + ' to learn more about interactive tables.';\n",
              "          element.innerHTML = '';\n",
              "          dataTable['output_type'] = 'display_data';\n",
              "          await google.colab.output.renderOutput(dataTable, element);\n",
              "          const docLink = document.createElement('div');\n",
              "          docLink.innerHTML = docLinkHtml;\n",
              "          element.appendChild(docLink);\n",
              "        }\n",
              "      </script>\n",
              "    </div>\n",
              "  </div>\n",
              "  "
            ]
          },
          "metadata": {},
          "execution_count": 4
        }
      ]
    },
    {
      "cell_type": "code",
      "source": [
        "data.info()"
      ],
      "metadata": {
        "colab": {
          "base_uri": "https://localhost:8080/"
        },
        "id": "Ri1RvTpRFMTe",
        "outputId": "fc132be7-b4b1-4610-a782-55a5a49de3e8"
      },
      "execution_count": 5,
      "outputs": [
        {
          "output_type": "stream",
          "name": "stdout",
          "text": [
            "<class 'pandas.core.frame.DataFrame'>\n",
            "RangeIndex: 299 entries, 0 to 298\n",
            "Data columns (total 13 columns):\n",
            " #   Column                    Non-Null Count  Dtype  \n",
            "---  ------                    --------------  -----  \n",
            " 0   age                       299 non-null    float64\n",
            " 1   anaemia                   299 non-null    int64  \n",
            " 2   creatinine_phosphokinase  299 non-null    int64  \n",
            " 3   diabetes                  299 non-null    int64  \n",
            " 4   ejection_fraction         299 non-null    int64  \n",
            " 5   high_blood_pressure       299 non-null    int64  \n",
            " 6   platelets                 299 non-null    float64\n",
            " 7   serum_creatinine          299 non-null    float64\n",
            " 8   serum_sodium              299 non-null    int64  \n",
            " 9   sex                       299 non-null    int64  \n",
            " 10  smoking                   299 non-null    int64  \n",
            " 11  time                      299 non-null    int64  \n",
            " 12  DEATH_EVENT               299 non-null    int64  \n",
            "dtypes: float64(3), int64(10)\n",
            "memory usage: 30.5 KB\n"
          ]
        }
      ]
    },
    {
      "cell_type": "code",
      "source": [
        "#first of all let us evaluate the target and find out if our data is imbalanced or not\n",
        "cols= [\"#6daa9f\",\"#774571\"]\n",
        "sns.countplot(x= data[\"DEATH_EVENT\"], palette= cols)"
      ],
      "metadata": {
        "colab": {
          "base_uri": "https://localhost:8080/",
          "height": 466
        },
        "id": "reguSHG4FV-i",
        "outputId": "8a19b006-839f-4c8f-e524-ab1c83eb445c"
      },
      "execution_count": 6,
      "outputs": [
        {
          "output_type": "execute_result",
          "data": {
            "text/plain": [
              "<Axes: xlabel='DEATH_EVENT', ylabel='count'>"
            ]
          },
          "metadata": {},
          "execution_count": 6
        },
        {
          "output_type": "display_data",
          "data": {
            "text/plain": [
              "<Figure size 640x480 with 1 Axes>"
            ],
            "image/png": "[encoded data removed]"
          },
          "metadata": {}
        }
      ]
    },
    {
      "cell_type": "code",
      "source": [
        "#assigning values to features as X and target as y\n",
        "X=data.drop([\"DEATH_EVENT\"],axis=1)\n",
        "y=data[\"DEATH_EVENT\"]"
      ],
      "metadata": {
        "id": "1ms7gFgEFYiG"
      },
      "execution_count": 9,
      "outputs": []
    },
    {
      "cell_type": "code",
      "source": [
        "#Set up a standard scaler for the features\n",
        "col_names = list(X.columns)\n",
        "s_scaler = preprocessing.StandardScaler()\n",
        "X_df= s_scaler.fit_transform(X)\n",
        "X_df = pd.DataFrame(X_df, columns=col_names)   \n",
        "X_df.describe().T"
      ],
      "metadata": {
        "colab": {
          "base_uri": "https://localhost:8080/",
          "height": 425
        },
        "id": "hHHvlLQbFh9V",
        "outputId": "b7fb57ea-90e0-41c1-c9e9-db8da9733c5d"
      },
      "execution_count": 10,
      "outputs": [
        {
          "output_type": "execute_result",
          "data": {
            "text/plain": [
              "                          count          mean       std       min       25%  \\\n",
              "age                       299.0  5.703353e-16  1.001676 -1.754448 -0.828124   \n",
              "anaemia                   299.0  1.009969e-16  1.001676 -0.871105 -0.871105   \n",
              "creatinine_phosphokinase  299.0  0.000000e+00  1.001676 -0.576918 -0.480393   \n",
              "diabetes                  299.0  9.060014e-17  1.001676 -0.847579 -0.847579   \n",
              "ejection_fraction         299.0 -3.267546e-17  1.001676 -2.038387 -0.684180   \n",
              "high_blood_pressure       299.0  0.000000e+00  1.001676 -0.735688 -0.735688   \n",
              "platelets                 299.0  7.723291e-17  1.001676 -2.440155 -0.520870   \n",
              "serum_creatinine          299.0  1.425838e-16  1.001676 -0.865509 -0.478205   \n",
              "serum_sodium              299.0 -8.673849e-16  1.001676 -5.363206 -0.595996   \n",
              "sex                       299.0 -8.911489e-18  1.001676 -1.359272 -1.359272   \n",
              "smoking                   299.0 -1.188199e-17  1.001676 -0.687682 -0.687682   \n",
              "time                      299.0 -1.901118e-16  1.001676 -1.629502 -0.739000   \n",
              "\n",
              "                               50%       75%       max  \n",
              "age                      -0.070223  0.771889  2.877170  \n",
              "anaemia                  -0.871105  1.147968  1.147968  \n",
              "creatinine_phosphokinase -0.342574  0.000166  7.514640  \n",
              "diabetes                 -0.847579  1.179830  1.179830  \n",
              "ejection_fraction        -0.007077  0.585389  3.547716  \n",
              "high_blood_pressure      -0.735688  1.359272  1.359272  \n",
              "platelets                -0.013908  0.411120  6.008180  \n",
              "serum_creatinine         -0.284552  0.005926  7.752020  \n",
              "serum_sodium              0.085034  0.766064  2.582144  \n",
              "sex                       0.735688  0.735688  0.735688  \n",
              "smoking                  -0.687682  1.454161  1.454161  \n",
              "time                     -0.196954  0.938759  1.997038  "
            ],
            "text/html": [
              "\n",
              "  <div id=\"df-55a012ed-a0b1-417b-ae7c-345a64a6c643\">\n",
              "    <div class=\"colab-df-container\">\n",
              "      <div>\n",
              "<style scoped>\n",
              "    .dataframe tbody tr th:only-of-type {\n",
              "        vertical-align: middle;\n",
              "    }\n",
              "\n",
              "    .dataframe tbody tr th {\n",
              "        vertical-align: top;\n",
              "    }\n",
              "\n",
              "    .dataframe thead th {\n",
              "        text-align: right;\n",
              "    }\n",
              "</style>\n",
              "<table border=\"1\" class=\"dataframe\">\n",
              "  <thead>\n",
              "    <tr style=\"text-align: right;\">\n",
              "      <th></th>\n",
              "      <th>count</th>\n",
              "      <th>mean</th>\n",
              "      <th>std</th>\n",
              "      <th>min</th>\n",
              "      <th>25%</th>\n",
              "      <th>50%</th>\n",
              "      <th>75%</th>\n",
              "      <th>max</th>\n",
              "    </tr>\n",
              "  </thead>\n",
              "  <tbody>\n",
              "    <tr>\n",
              "      <th>age</th>\n",
              "      <td>299.0</td>\n",
              "      <td>5.703353e-16</td>\n",
              "      <td>1.001676</td>\n",
              "      <td>-1.754448</td>\n",
              "      <td>-0.828124</td>\n",
              "      <td>-0.070223</td>\n",
              "      <td>0.771889</td>\n",
              "      <td>2.877170</td>\n",
              "    </tr>\n",
              "    <tr>\n",
              "      <th>anaemia</th>\n",
              "      <td>299.0</td>\n",
              "      <td>1.009969e-16</td>\n",
              "      <td>1.001676</td>\n",
              "      <td>-0.871105</td>\n",
              "      <td>-0.871105</td>\n",
              "      <td>-0.871105</td>\n",
              "      <td>1.147968</td>\n",
              "      <td>1.147968</td>\n",
              "    </tr>\n",
              "    <tr>\n",
              "      <th>creatinine_phosphokinase</th>\n",
              "      <td>299.0</td>\n",
              "      <td>0.000000e+00</td>\n",
              "      <td>1.001676</td>\n",
              "      <td>-0.576918</td>\n",
              "      <td>-0.480393</td>\n",
              "      <td>-0.342574</td>\n",
              "      <td>0.000166</td>\n",
              "      <td>7.514640</td>\n",
              "    </tr>\n",
              "    <tr>\n",
              "      <th>diabetes</th>\n",
              "      <td>299.0</td>\n",
              "      <td>9.060014e-17</td>\n",
              "      <td>1.001676</td>\n",
              "      <td>-0.847579</td>\n",
              "      <td>-0.847579</td>\n",
              "      <td>-0.847579</td>\n",
              "      <td>1.179830</td>\n",
              "      <td>1.179830</td>\n",
              "    </tr>\n",
              "    <tr>\n",
              "      <th>ejection_fraction</th>\n",
              "      <td>299.0</td>\n",
              "      <td>-3.267546e-17</td>\n",
              "      <td>1.001676</td>\n",
              "      <td>-2.038387</td>\n",
              "      <td>-0.684180</td>\n",
              "      <td>-0.007077</td>\n",
              "      <td>0.585389</td>\n",
              "      <td>3.547716</td>\n",
              "    </tr>\n",
              "    <tr>\n",
              "      <th>high_blood_pressure</th>\n",
              "      <td>299.0</td>\n",
              "      <td>0.000000e+00</td>\n",
              "      <td>1.001676</td>\n",
              "      <td>-0.735688</td>\n",
              "      <td>-0.735688</td>\n",
              "      <td>-0.735688</td>\n",
              "      <td>1.359272</td>\n",
              "      <td>1.359272</td>\n",
              "    </tr>\n",
              "    <tr>\n",
              "      <th>platelets</th>\n",
              "      <td>299.0</td>\n",
              "      <td>7.723291e-17</td>\n",
              "      <td>1.001676</td>\n",
              "      <td>-2.440155</td>\n",
              "      <td>-0.520870</td>\n",
              "      <td>-0.013908</td>\n",
              "      <td>0.411120</td>\n",
              "      <td>6.008180</td>\n",
              "    </tr>\n",
              "    <tr>\n",
              "      <th>serum_creatinine</th>\n",
              "      <td>299.0</td>\n",
              "      <td>1.425838e-16</td>\n",
              "      <td>1.001676</td>\n",
              "      <td>-0.865509</td>\n",
              "      <td>-0.478205</td>\n",
              "      <td>-0.284552</td>\n",
              "      <td>0.005926</td>\n",
              "      <td>7.752020</td>\n",
              "    </tr>\n",
              "    <tr>\n",
              "      <th>serum_sodium</th>\n",
              "      <td>299.0</td>\n",
              "      <td>-8.673849e-16</td>\n",
              "      <td>1.001676</td>\n",
              "      <td>-5.363206</td>\n",
              "      <td>-0.595996</td>\n",
              "      <td>0.085034</td>\n",
              "      <td>0.766064</td>\n",
              "      <td>2.582144</td>\n",
              "    </tr>\n",
              "    <tr>\n",
              "      <th>sex</th>\n",
              "      <td>299.0</td>\n",
              "      <td>-8.911489e-18</td>\n",
              "      <td>1.001676</td>\n",
              "      <td>-1.359272</td>\n",
              "      <td>-1.359272</td>\n",
              "      <td>0.735688</td>\n",
              "      <td>0.735688</td>\n",
              "      <td>0.735688</td>\n",
              "    </tr>\n",
              "    <tr>\n",
              "      <th>smoking</th>\n",
              "      <td>299.0</td>\n",
              "      <td>-1.188199e-17</td>\n",
              "      <td>1.001676</td>\n",
              "      <td>-0.687682</td>\n",
              "      <td>-0.687682</td>\n",
              "      <td>-0.687682</td>\n",
              "      <td>1.454161</td>\n",
              "      <td>1.454161</td>\n",
              "    </tr>\n",
              "    <tr>\n",
              "      <th>time</th>\n",
              "      <td>299.0</td>\n",
              "      <td>-1.901118e-16</td>\n",
              "      <td>1.001676</td>\n",
              "      <td>-1.629502</td>\n",
              "      <td>-0.739000</td>\n",
              "      <td>-0.196954</td>\n",
              "      <td>0.938759</td>\n",
              "      <td>1.997038</td>\n",
              "    </tr>\n",
              "  </tbody>\n",
              "</table>\n",
              "</div>\n",
              "      <button class=\"colab-df-convert\" onclick=\"convertToInteractive('df-55a012ed-a0b1-417b-ae7c-345a64a6c643')\"\n",
              "              title=\"Convert this dataframe to an interactive table.\"\n",
              "              style=\"display:none;\">\n",
              "        \n",
              "  <svg xmlns=\"http://www.w3.org/2000/svg\" height=\"24px\"viewBox=\"0 0 24 24\"\n",
              "       width=\"24px\">\n",
              "    <path d=\"M0 0h24v24H0V0z\" fill=\"none\"/>\n",
              "    <path d=\"M18.56 5.44l.94 2.06.94-2.06 2.06-.94-2.06-.94-.94-2.06-.94 2.06-2.06.94zm-11 1L8.5 8.5l.94-2.06 2.06-.94-2.06-.94L8.5 2.5l-.94 2.06-2.06.94zm10 10l.94 2.06.94-2.06 2.06-.94-2.06-.94-.94-2.06-.94 2.06-2.06.94z\"/><path d=\"M17.41 7.96l-1.37-1.37c-.4-.4-.92-.59-1.43-.59-.52 0-1.04.2-1.43.59L10.3 9.45l-7.72 7.72c-.78.78-.78 2.05 0 2.83L4 21.41c.39.39.9.59 1.41.59.51 0 1.02-.2 1.41-.59l7.78-7.78 2.81-2.81c.8-.78.8-2.07 0-2.86zM5.41 20L4 18.59l7.72-7.72 1.47 1.35L5.41 20z\"/>\n",
              "  </svg>\n",
              "      </button>\n",
              "      \n",
              "  <style>\n",
              "    .colab-df-container {\n",
              "      display:flex;\n",
              "      flex-wrap:wrap;\n",
              "      gap: 12px;\n",
              "    }\n",
              "\n",
              "    .colab-df-convert {\n",
              "      background-color: #E8F0FE;\n",
              "      border: none;\n",
              "      border-radius: 50%;\n",
              "      cursor: pointer;\n",
              "      display: none;\n",
              "      fill: #1967D2;\n",
              "      height: 32px;\n",
              "      padding: 0 0 0 0;\n",
              "      width: 32px;\n",
              "    }\n",
              "\n",
              "    .colab-df-convert:hover {\n",
              "      background-color: #E2EBFA;\n",
              "      box-shadow: 0px 1px 2px rgba(60, 64, 67, 0.3), 0px 1px 3px 1px rgba(60, 64, 67, 0.15);\n",
              "      fill: #174EA6;\n",
              "    }\n",
              "\n",
              "    [theme=dark] .colab-df-convert {\n",
              "      background-color: #3B4455;\n",
              "      fill: #D2E3FC;\n",
              "    }\n",
              "\n",
              "    [theme=dark] .colab-df-convert:hover {\n",
              "      background-color: #434B5C;\n",
              "      box-shadow: 0px 1px 3px 1px rgba(0, 0, 0, 0.15);\n",
              "      filter: drop-shadow(0px 1px 2px rgba(0, 0, 0, 0.3));\n",
              "      fill: #FFFFFF;\n",
              "    }\n",
              "  </style>\n",
              "\n",
              "      <script>\n",
              "        const buttonEl =\n",
              "          document.querySelector('#df-55a012ed-a0b1-417b-ae7c-345a64a6c643 button.colab-df-convert');\n",
              "        buttonEl.style.display =\n",
              "          google.colab.kernel.accessAllowed ? 'block' : 'none';\n",
              "\n",
              "        async function convertToInteractive(key) {\n",
              "          const element = document.querySelector('#df-55a012ed-a0b1-417b-ae7c-345a64a6c643');\n",
              "          const dataTable =\n",
              "            await google.colab.kernel.invokeFunction('convertToInteractive',\n",
              "                                                     [key], {});\n",
              "          if (!dataTable) return;\n",
              "\n",
              "          const docLinkHtml = 'Like what you see? Visit the ' +\n",
              "            '<a target=\"_blank\" href=https://colab.research.google.com/notebooks/data_table.ipynb>data table notebook</a>'\n",
              "            + ' to learn more about interactive tables.';\n",
              "          element.innerHTML = '';\n",
              "          dataTable['output_type'] = 'display_data';\n",
              "          await google.colab.output.renderOutput(dataTable, element);\n",
              "          const docLink = document.createElement('div');\n",
              "          docLink.innerHTML = docLinkHtml;\n",
              "          element.appendChild(docLink);\n",
              "        }\n",
              "      </script>\n",
              "    </div>\n",
              "  </div>\n",
              "  "
            ]
          },
          "metadata": {},
          "execution_count": 10
        }
      ]
    },
    {
      "cell_type": "code",
      "source": [
        "#spliting test and training sets\n",
        "X_train, X_test, y_train,y_test = train_test_split(X_df,y,test_size=0.25,random_state=7)"
      ],
      "metadata": {
        "id": "SUDec_F6F0qT"
      },
      "execution_count": 11,
      "outputs": []
    },
    {
      "cell_type": "code",
      "source": [
        "early_stopping = callbacks.EarlyStopping(\n",
        "    min_delta=0.001, # minimium amount of change to count as an improvement\n",
        "    patience=30, # how many epochs to wait before stopping\n",
        "    restore_best_weights=True)\n",
        "\n",
        "# Initialising the NN\n",
        "model = Sequential()\n",
        "\n",
        "# layers\n",
        "model.add(Dense(units = 16, kernel_initializer = 'uniform', activation = 'relu', input_dim = 12))\n",
        "model.add(Dense(units = 8, kernel_initializer = 'uniform', activation = 'relu'))\n",
        "model.add(Dropout(0.25))\n",
        "model.add(Dense(units = 4, kernel_initializer = 'uniform', activation = 'relu'))\n",
        "model.add(Dropout(0.5))\n",
        "model.add(Dense(units = 1, kernel_initializer = 'uniform', activation = 'sigmoid'))\n",
        "from tensorflow.keras.optimizers import SGD\n",
        "# Compiling the ANN\n",
        "model.compile(optimizer = 'adam', loss = 'binary_crossentropy', metrics = ['accuracy'])\n"
      ],
      "metadata": {
        "id": "VbJtwD3WF619"
      },
      "execution_count": 12,
      "outputs": []
    },
    {
      "cell_type": "code",
      "source": [
        "# Train the ANN\n",
        "history = model.fit(X_train, y_train, batch_size = 32, epochs = 15,callbacks=[early_stopping], validation_split=0.2)"
      ],
      "metadata": {
        "colab": {
          "base_uri": "https://localhost:8080/"
        },
        "id": "P0iLfCtbGFn7",
        "outputId": "349d4fab-2968-4f4a-e72e-c91a6ccc5ab7"
      },
      "execution_count": 18,
      "outputs": [
        {
          "output_type": "stream",
          "name": "stdout",
          "text": [
            "Epoch 1/15\n",
            "6/6 [==============================] - 0s 55ms/step - loss: 0.6884 - accuracy: 0.6480 - val_loss: 0.6870 - val_accuracy: 0.6667\n",
            "Epoch 2/15\n",
            "6/6 [==============================] - 0s 19ms/step - loss: 0.6870 - accuracy: 0.6480 - val_loss: 0.6857 - val_accuracy: 0.6667\n",
            "Epoch 3/15\n",
            "6/6 [==============================] - 0s 37ms/step - loss: 0.6862 - accuracy: 0.6480 - val_loss: 0.6843 - val_accuracy: 0.6667\n",
            "Epoch 4/15\n",
            "6/6 [==============================] - 0s 23ms/step - loss: 0.6850 - accuracy: 0.6480 - val_loss: 0.6828 - val_accuracy: 0.6667\n",
            "Epoch 5/15\n",
            "6/6 [==============================] - 0s 22ms/step - loss: 0.6831 - accuracy: 0.6480 - val_loss: 0.6808 - val_accuracy: 0.6667\n",
            "Epoch 6/15\n",
            "6/6 [==============================] - 0s 26ms/step - loss: 0.6796 - accuracy: 0.6480 - val_loss: 0.6782 - val_accuracy: 0.6667\n",
            "Epoch 7/15\n",
            "6/6 [==============================] - 0s 18ms/step - loss: 0.6767 - accuracy: 0.6480 - val_loss: 0.6745 - val_accuracy: 0.6667\n",
            "Epoch 8/15\n",
            "6/6 [==============================] - 0s 16ms/step - loss: 0.6746 - accuracy: 0.6480 - val_loss: 0.6700 - val_accuracy: 0.6667\n",
            "Epoch 9/15\n",
            "6/6 [==============================] - 0s 20ms/step - loss: 0.6703 - accuracy: 0.6480 - val_loss: 0.6641 - val_accuracy: 0.6667\n",
            "Epoch 10/15\n",
            "6/6 [==============================] - 0s 19ms/step - loss: 0.6664 - accuracy: 0.6480 - val_loss: 0.6566 - val_accuracy: 0.6667\n",
            "Epoch 11/15\n",
            "6/6 [==============================] - 0s 18ms/step - loss: 0.6530 - accuracy: 0.6480 - val_loss: 0.6469 - val_accuracy: 0.6667\n",
            "Epoch 12/15\n",
            "6/6 [==============================] - 0s 19ms/step - loss: 0.6424 - accuracy: 0.6480 - val_loss: 0.6348 - val_accuracy: 0.6667\n",
            "Epoch 13/15\n",
            "6/6 [==============================] - 0s 18ms/step - loss: 0.6416 - accuracy: 0.6480 - val_loss: 0.6209 - val_accuracy: 0.6667\n",
            "Epoch 14/15\n",
            "6/6 [==============================] - 0s 32ms/step - loss: 0.6209 - accuracy: 0.6480 - val_loss: 0.6051 - val_accuracy: 0.6667\n",
            "Epoch 15/15\n",
            "6/6 [==============================] - 0s 21ms/step - loss: 0.6083 - accuracy: 0.6480 - val_loss: 0.5887 - val_accuracy: 0.6667\n"
          ]
        }
      ]
    },
    {
      "cell_type": "code",
      "source": [
        "val_accuracy = np.mean(history.history['val_accuracy'])\n",
        "print(\"\\n%s: %.2f%%\" % ('val_accuracy', val_accuracy*100))"
      ],
      "metadata": {
        "colab": {
          "base_uri": "https://localhost:8080/"
        },
        "id": "JVuPiCFyGHFE",
        "outputId": "88d51463-d0a1-4743-d9e9-c47b822cfee2"
      },
      "execution_count": 19,
      "outputs": [
        {
          "output_type": "stream",
          "name": "stdout",
          "text": [
            "\n",
            "val_accuracy: 66.67%\n"
          ]
        }
      ]
    },
    {
      "cell_type": "code",
      "source": [
        "# Predicting the test set results\n",
        "y_pred = model.predict(X_test)\n",
        "y_pred = (y_pred > 0.5)\n",
        "np.set_printoptions()"
      ],
      "metadata": {
        "id": "mJbFCaiUGxYO",
        "outputId": "cdc2ead3-2c65-4619-e1cb-a618c65519a9",
        "colab": {
          "base_uri": "https://localhost:8080/"
        }
      },
      "execution_count": 20,
      "outputs": [
        {
          "output_type": "stream",
          "name": "stdout",
          "text": [
            "3/3 [==============================] - 0s 5ms/step\n"
          ]
        }
      ]
    },
    {
      "cell_type": "code",
      "source": [
        "y_test"
      ],
      "metadata": {
        "colab": {
          "base_uri": "https://localhost:8080/"
        },
        "id": "VeIPY9SwG3YX",
        "outputId": "079f63e0-3389-4049-87c7-ab8fd8ff7951"
      },
      "execution_count": 21,
      "outputs": [
        {
          "output_type": "execute_result",
          "data": {
            "text/plain": [
              "268    0\n",
              "240    0\n",
              "278    0\n",
              "176    0\n",
              "202    0\n",
              "      ..\n",
              "24     1\n",
              "62     0\n",
              "249    0\n",
              "90     0\n",
              "50     1\n",
              "Name: DEATH_EVENT, Length: 75, dtype: int64"
            ]
          },
          "metadata": {},
          "execution_count": 21
        }
      ]
    },
    {
      "cell_type": "code",
      "source": [
        "cmap1 = sns.diverging_palette(275,150,  s=40, l=65, n=6)\n",
        "plt.subplots(figsize=(12,8))\n",
        "cf_matrix = confusion_matrix(y_test, y_pred)\n",
        "sns.heatmap(cf_matrix/np.sum(cf_matrix), cmap = cmap1, annot = True, annot_kws = {'size':15})"
      ],
      "metadata": {
        "colab": {
          "base_uri": "https://localhost:8080/",
          "height": 693
        },
        "id": "cqv-7IdyH8py",
        "outputId": "bcfd098f-5ae2-4ee3-e250-0b707940843f"
      },
      "execution_count": 22,
      "outputs": [
        {
          "output_type": "execute_result",
          "data": {
            "text/plain": [
              "<Axes: >"
            ]
          },
          "metadata": {},
          "execution_count": 22
        },
        {
          "output_type": "display_data",
          "data": {
            "text/plain": [
              "<Figure size 1200x800 with 2 Axes>"
            ],
            "image/png": "[encoded data removed]"
          },
          "metadata": {}
        }
      ]
    }
  ]
}